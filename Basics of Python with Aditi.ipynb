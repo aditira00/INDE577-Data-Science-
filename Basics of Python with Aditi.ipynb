{
 "cells": [
  {
   "cell_type": "markdown",
   "id": "31f044f5",
   "metadata": {},
   "source": [
    "---\n",
    "\n",
    "# Python Basics for a layman_By Aditi Rao\n",
    "\n",
    "Personal Journal: 1) Are you unemployed? Making Cover letters after cover letters? And each cover letter has to personal? \n",
    "\n",
    "Dont worry, Aditi is here to help you make cover letters using Strings. Fun way to use strings to make personalized cover letters for each company you apply to. \n",
    "\n",
    "\n"
   ]
  },
  {
   "cell_type": "markdown",
   "id": "1a3fcb3a",
   "metadata": {},
   "source": [
    "Part 1. Strings \n",
    "\n",
    "Python strings are sequences of characters and symbols surrounded by ``` \" \" ``` or by ``` ' ' ```, and will be used in many contexts, such as when writing *doc strings*, printing descriptive output, and when naming the columns of tabular data (*DataFrames*). Strings are also often the first representation of data read into a program before being converted to numerical values (if needed). To illustrate how strings work consider typing the following code into the cell below:\n",
    "\n",
    "\n",
    "# This is one way to define a string\n",
    "\n",
    "```Python\n",
    "# I have a cover letter for the company name \"Roogle\" which I have to change to \"Racebook\". This is very similar to   MSWord's: Find and Replace function\n",
    "\n",
    "My_cover _letter :\n",
    "\n",
    "first_company: Roogle\n",
    "\n",
    "second_company: Racebook\n",
    " ```\n",
    "\n",
    "\n",
    "# Coverletter\n",
    "\n",
    "18th January\n",
    "\n",
    "Roogle\n",
    "\n",
    "Dear Hiring Manager,\n",
    "\n",
    "I learned about the position at Roogle Company through LinkedIn. I am deeply interested in this position and am able to work from May 2022 through September 2022. Based on my 11/2 years’ experience and the skill set I possess; I believe that I meet the qualifications that you are looking for as an intern. \n",
    "\n",
    "I am a persistent and hardworking student at Rice University, currently enrolled in Master’s in Industrial Engineering. My courses in Rice have created great sense of curiosity in MRP and its effect on inventory, lot size ordering and holding cost vs set up cost. As the Vice President of ISAR (Indian Student Association at Rice) I have successfully managed scheduling and budgeting as well as planning and delegating responsibilities to other leaders on the executive board team. With these leadership experience, I hope to add value to Roogle too. \n",
    "\n",
    "I have my bachelor’s degree in Mechatronics engineering with 3.7/4.0 GPA. During my undergraduate studies, I developed eagerness about lean manufacturing and how small changes of improvement in daily life can increase productivity. I also had the opportunity to complete an internship at Steel- O- Fab, a gearbox manufacturing company. During my internship, I worked in an assembly line where I assembled the gear boxes, and using Kaizen, I was able to reduce the assembly time from 12 min to 10 min. I applied manufacturing and production principles such as Kaizen, lean, PEEP (Place for everything and everything in place) and just in time during my internship. I was also sponsored for my final year undergraduate project by Itrontik Smart Systems, where I and my team built a drone to help rescue people from confined spaces. I looked after the Bill of material as well as choose the motors and propellors according to the constraints. \n",
    "\n",
    "I am well equipped with managing Gannt chart, minutes of the meeting and handling multiple tasks in a systematic manner using planner.  My forte is in Excel and Presentations which I have analyzed from all the three internships I had. My interest lies in planning, management, cost control, cost reduction, inventory control and cost cutting. I would be grateful to speak with you, if you feel I would be a strong candidate for this or any position in your organization Roogle.\n",
    "\n",
    "Sincerely, \n",
    "\n",
    "Aditi Vipinchandra Rao\n"
   ]
  },
  {
   "cell_type": "code",
   "execution_count": 10,
   "id": "2ee9fe1c",
   "metadata": {},
   "outputs": [
    {
     "name": "stdout",
     "output_type": "stream",
     "text": [
      "Roogle\n"
     ]
    }
   ],
   "source": [
    "first_company = \"Roogle\"\n",
    "print(first_company)"
   ]
  },
  {
   "cell_type": "markdown",
   "id": "089a32a5",
   "metadata": {},
   "source": [
    "------\n",
    "\n",
    "You can check the values of the variables ```first_company``` and ```second_company``` by printing them with the ```print()``` function:\n",
    "```Python\n",
    "print(first_company)\n",
    "\n",
    "print(second_company)\n",
    "\n",
    "```\n",
    "-----\n"
   ]
  },
  {
   "cell_type": "code",
   "execution_count": 11,
   "id": "7a2e8d22",
   "metadata": {},
   "outputs": [
    {
     "name": "stdout",
     "output_type": "stream",
     "text": [
      "Racebook\n"
     ]
    }
   ],
   "source": [
    "second_company = \"Racebook\"\n",
    "print(second_company)"
   ]
  },
  {
   "cell_type": "markdown",
   "id": "0c185a82",
   "metadata": {},
   "source": [
    "------\n",
    "\n",
    "Now with the coverletter lets replace ```first_company``` i.e Roogle to ```second_company``` i.e Racebook \n",
    "```\n",
    "-----\n"
   ]
  },
  {
   "cell_type": "markdown",
   "id": "f16afb53",
   "metadata": {},
   "source": [
    "First I am going to use something called String interpolation\n",
    "\n",
    "\n",
    "\n",
    "\n",
    "18th January\n",
    "\n",
    "Roogle\n",
    "\n",
    "Dear Hiring Manager,\n",
    "\n",
    "I learned about the position at **{company}**  Company through LinkedIn. I am deeply interested in this position and am able to work from May 2022 through September 2022. Based on my 11/2 years’ experience and the skill set I possess; I believe that I meet the qualifications that you are looking for as an intern. \n",
    "\n",
    "I am a persistent and hardworking student at Rice University, currently enrolled in Master’s in Industrial Engineering. My courses in Rice have created great sense of curiosity in MRP and its effect on inventory, lot size ordering and holding cost vs set up cost. As the Vice President of ISAR (Indian Student Association at Rice) I have successfully managed scheduling and budgeting as well as planning and delegating responsibilities to other leaders on the executive board team. With these leadership experience, I hope to add value to **{company}** too. \n",
    "\n",
    "I have my bachelor’s degree in Mechatronics engineering with 3.7/4.0 GPA. During my undergraduate studies, I developed eagerness about lean manufacturing and how small changes of improvement in daily life can increase productivity. I also had the opportunity to complete an internship at Steel- O- Fab, a gearbox manufacturing company. During my internship, I worked in an assembly line where I assembled the gear boxes, and using Kaizen, I was able to reduce the assembly time from 12 min to 10 min. I applied manufacturing and production principles such as Kaizen, lean, PEEP (Place for everything and everything in place) and just in time during my internship. I was also sponsored for my final year undergraduate project by Itrontik Smart Systems, where I and my team built a drone to help rescue people from confined spaces. I looked after the Bill of material as well as choose the motors and propellors according to the constraints. \n",
    "\n",
    "I am well equipped with managing Gannt chart, minutes of the meeting and handling multiple tasks in a systematic manner using planner.  My forte is in Excel and Presentations which I have analyzed from all the three internships I had. My interest lies in planning, management, cost control, cost reduction, inventory control and cost cutting. I would be grateful to speak with you, if you feel I would be a strong candidate for this or any position in your organization **{company}**.\n",
    "\n",
    "Sincerely, \n",
    "\n",
    "Aditi Vipinchandra Rao\n",
    "\n",
    " \""
   ]
  },
  {
   "cell_type": "code",
   "execution_count": null,
   "id": "7696d77e",
   "metadata": {},
   "outputs": [],
   "source": []
  },
  {
   "cell_type": "markdown",
   "id": "2c4eaebd",
   "metadata": {},
   "source": [
    "Now I have to just change the company name everytime I can just change from company = \"Roogle\""
   ]
  },
  {
   "cell_type": "code",
   "execution_count": 14,
   "id": "a38ac62d",
   "metadata": {},
   "outputs": [
    {
     "name": "stdout",
     "output_type": "stream",
     "text": [
      "18th January \n",
      "Roogle  \n",
      "\n",
      "Dear Hiring Manager, \n",
      "\n",
      "I learned about the position at Roogle  Company through LinkedIn. I am deeply interested in this position and am able to work from May 2022 through September 2022. Based on my 11/2 years’ experience and the skill set I possess; I believe that I meet the qualifications that you are looking for as an intern. I am a persistent and hardworking student at Rice University, currently enrolled in Master’s in Industrial Engineering. My courses in Rice have created great sense of curiosity in MRP and its effect on inventory, lot size ordering and holding cost vs set up cost. As the Vice President of ISAR (Indian Student Association at Rice) I have successfully managed scheduling and budgeting as well as planning and delegating responsibilities to other leaders on the executive board team. With these leadership experience, I hope to add value to Roogle too. \n",
      "\n",
      " I have my bachelor’s degree in Mechatronics engineering with 3.7/4.0 GPA. During my undergraduate studies, I developed eagerness about lean manufacturing and how small changes of improvement in daily life can increase productivity. I also had the opportunity to complete an internship at Steel- O- Fab, a gearbox manufacturing company. During my internship, I worked in an assembly line where I assembled the gear boxes, and using Kaizen, I was able to reduce the assembly time from 12 min to 10 min. I applied manufacturing and production principles such as Kaizen, lean, PEEP (Place for everything and everything in place) and just in time during my internship. I was also sponsored for my final year undergraduate project by Itrontik Smart Systems, where I and my team built a drone to help rescue people from confined spaces. I looked after the Bill of material as well as choose the motors and propellors according to the constraints. I am well equipped with managing Gannt chart, minutes of the meeting and handling multiple tasks in a systematic manner using planner. \n",
      "\n",
      "  My forte is in Excel and Presentations which I have analyzed from all the three internships I had. My interest lies in planning, management, cost control, cost reduction, inventory control and cost cutting. I would be grateful to speak with you, if you feel I would be a strong candidate for this or any position in your organization Roogle \n",
      "\n",
      ".\n",
      " Sincerely,\n",
      "\n",
      " Aditi Vipinchandra Rao\n"
     ]
    }
   ],
   "source": [
    "company = \"Roogle\"\n",
    "\n",
    "\n",
    "cover = f\"\"\"18th January \n",
    "{company} \"\"\"\n",
    "\n",
    "Head = \"Dear Hiring Manager,\"\n",
    "\n",
    "Para_1 = f\"I learned about the position at {company}  Company through LinkedIn. I am deeply interested in this position and am able to work from May 2022 through September 2022. Based on my 11/2 years’ experience and the skill set I possess; I believe that I meet the qualifications that you are looking for as an intern. I am a persistent and hardworking student at Rice University, currently enrolled in Master’s in Industrial Engineering. My courses in Rice have created great sense of curiosity in MRP and its effect on inventory, lot size ordering and holding cost vs set up cost. As the Vice President of ISAR (Indian Student Association at Rice) I have successfully managed scheduling and budgeting as well as planning and delegating responsibilities to other leaders on the executive board team. With these leadership experience, I hope to add value to {company} too.\" \n",
    "Para_2 = f\" I have my bachelor’s degree in Mechatronics engineering with 3.7/4.0 GPA. During my undergraduate studies, I developed eagerness about lean manufacturing and how small changes of improvement in daily life can increase productivity. I also had the opportunity to complete an internship at Steel- O- Fab, a gearbox manufacturing company. During my internship, I worked in an assembly line where I assembled the gear boxes, and using Kaizen, I was able to reduce the assembly time from 12 min to 10 min. I applied manufacturing and production principles such as Kaizen, lean, PEEP (Place for everything and everything in place) and just in time during my internship. I was also sponsored for my final year undergraduate project by Itrontik Smart Systems, where I and my team built a drone to help rescue people from confined spaces. I looked after the Bill of material as well as choose the motors and propellors according to the constraints. I am well equipped with managing Gannt chart, minutes of the meeting and handling multiple tasks in a systematic manner using planner.\" \n",
    "Para_3 = f\"  My forte is in Excel and Presentations which I have analyzed from all the three internships I had. My interest lies in planning, management, cost control, cost reduction, inventory control and cost cutting. I would be grateful to speak with you, if you feel I would be a strong candidate for this or any position in your organization {company}\"\n",
    "end_1 = \".\\n Sincerely,\"\n",
    "end_2 = \"\\n Aditi Vipinchandra Rao\"\"\"\n",
    "\n",
    "\n",
    "print(cover,\"\\n\")\n",
    "print(Head,\"\\n\")\n",
    "print(Para_1,\"\\n\")\n",
    "print(Para_2,\"\\n\")\n",
    "print(Para_3,\"\\n\")\n",
    "print(end_1)\n",
    "print(end_2)"
   ]
  },
  {
   "cell_type": "markdown",
   "id": "a38c5613",
   "metadata": {},
   "source": [
    "If one changes Company = Roogle to Racebook it automatically changes the whole script. One only needs to ```ctrl C``` and ```Ctrl V``` the rest of the code."
   ]
  },
  {
   "cell_type": "code",
   "execution_count": 49,
   "id": "737bb24d",
   "metadata": {},
   "outputs": [
    {
     "name": "stdout",
     "output_type": "stream",
     "text": [
      "18th January \n",
      "Racebook  \n",
      "\n",
      "Dear Hiring Manager, \n",
      "\n",
      "I learned about the position at Racebook  Company through LinkedIn. I am deeply interested in this position and am able to work from May 2022 through September 2022. Based on my 11/2 years’ experience and the skill set I possess; I believe that I meet the qualifications that you are looking for as an intern. I am a persistent and hardworking student at Rice University, currently enrolled in Master’s in Industrial Engineering. My courses in Rice have created great sense of curiosity in MRP and its effect on inventory, lot size ordering and holding cost vs set up cost. As the Vice President of ISAR (Indian Student Association at Rice) I have successfully managed scheduling and budgeting as well as planning and delegating responsibilities to other leaders on the executive board team. With these leadership experience, I hope to add value to Racebook too. \n",
      "\n",
      " I have my bachelor’s degree in Mechatronics engineering with 3.7/4.0 GPA. During my undergraduate studies, I developed eagerness about lean manufacturing and how small changes of improvement in daily life can increase productivity. I also had the opportunity to complete an internship at Steel- O- Fab, a gearbox manufacturing company. During my internship, I worked in an assembly line where I assembled the gear boxes, and using Kaizen, I was able to reduce the assembly time from 12 min to 10 min. I applied manufacturing and production principles such as Kaizen, lean, PEEP (Place for everything and everything in place) and just in time during my internship. I was also sponsored for my final year undergraduate project by Itrontik Smart Systems, where I and my team built a drone to help rescue people from confined spaces. I looked after the Bill of material as well as choose the motors and propellors according to the constraints. I am well equipped with managing Gannt chart, minutes of the meeting and handling multiple tasks in a systematic manner using planner. \n",
      "\n",
      "  My forte is in Excel and Presentations which I have analyzed from all the three internships I had. My interest lies in planning, management, cost control, cost reduction, inventory control and cost cutting. I would be grateful to speak with you, if you feel I would be a strong candidate for this or any position in your organization Racebook \n",
      "\n",
      ".\n",
      " Sincerely,\n",
      "\n",
      " Aditi Vipinchandra Rao\n"
     ]
    }
   ],
   "source": [
    "company = \"Racebook\"\n",
    "cover = f\"\"\"18th January \n",
    "{company} \"\"\"\n",
    "\n",
    "Head = \"Dear Hiring Manager,\"\n",
    "\n",
    "Para_1 = f\"I learned about the position at {company}  Company through LinkedIn. I am deeply interested in this position and am able to work from May 2022 through September 2022. Based on my 11/2 years’ experience and the skill set I possess; I believe that I meet the qualifications that you are looking for as an intern. I am a persistent and hardworking student at Rice University, currently enrolled in Master’s in Industrial Engineering. My courses in Rice have created great sense of curiosity in MRP and its effect on inventory, lot size ordering and holding cost vs set up cost. As the Vice President of ISAR (Indian Student Association at Rice) I have successfully managed scheduling and budgeting as well as planning and delegating responsibilities to other leaders on the executive board team. With these leadership experience, I hope to add value to {company} too.\" \n",
    "Para_2 = f\" I have my bachelor’s degree in Mechatronics engineering with 3.7/4.0 GPA. During my undergraduate studies, I developed eagerness about lean manufacturing and how small changes of improvement in daily life can increase productivity. I also had the opportunity to complete an internship at Steel- O- Fab, a gearbox manufacturing company. During my internship, I worked in an assembly line where I assembled the gear boxes, and using Kaizen, I was able to reduce the assembly time from 12 min to 10 min. I applied manufacturing and production principles such as Kaizen, lean, PEEP (Place for everything and everything in place) and just in time during my internship. I was also sponsored for my final year undergraduate project by Itrontik Smart Systems, where I and my team built a drone to help rescue people from confined spaces. I looked after the Bill of material as well as choose the motors and propellors according to the constraints. I am well equipped with managing Gannt chart, minutes of the meeting and handling multiple tasks in a systematic manner using planner.\" \n",
    "Para_3 = f\"  My forte is in Excel and Presentations which I have analyzed from all the three internships I had. My interest lies in planning, management, cost control, cost reduction, inventory control and cost cutting. I would be grateful to speak with you, if you feel I would be a strong candidate for this or any position in your organization {company}\"\n",
    "end_1 = \".\\n Sincerely,\"\n",
    "end_2 = \"\\n Aditi Vipinchandra Rao\"\"\"\n",
    "\n",
    "\n",
    "print(cover,\"\\n\")\n",
    "print(Head,\"\\n\")\n",
    "print(Para_1,\"\\n\")\n",
    "print(Para_2,\"\\n\")\n",
    "print(Para_3,\"\\n\")\n",
    "print(end_1)\n",
    "print(end_2)\n",
    "\n"
   ]
  },
  {
   "cell_type": "code",
   "execution_count": 53,
   "id": "092fe798",
   "metadata": {},
   "outputs": [],
   "source": [
    "#Try it yourself with another company "
   ]
  },
  {
   "cell_type": "markdown",
   "id": "2829c1e4",
   "metadata": {},
   "source": [
    "**Company allows you to only write 2000 words or less that is when ```count()``` can be used**\n",
    "\n",
    "\n",
    "\n",
    "\n",
    "Everything in Python is an object and objects have attributes and methods associated with them.\n",
    "\n",
    "\n",
    "Lets get to know ```count()```\n",
    "\n",
    "If a company has a limit on number of words for the cover letter or resume then one can check it instantly by apply ```count()```\n",
    "\n",
    "\n",
    "\n",
    "What is ```count()```?\n",
    "\n",
    "Returns the number of times a specified value occurs in a string"
   ]
  },
  {
   "cell_type": "code",
   "execution_count": 9,
   "id": "c206271b",
   "metadata": {},
   "outputs": [
    {
     "data": {
      "text/plain": [
       "2369"
      ]
     },
     "execution_count": 9,
     "metadata": {},
     "output_type": "execute_result"
    }
   ],
   "source": [
    "company = \"Racebook\"\n",
    "cover = f\"\"\"18th January  \n",
    "{company} \"\"\"\n",
    "\n",
    "Head = \"Dear Hiring Manager,\"\n",
    "\n",
    "Para_1 = f\"I learned about the position at {company}  Company through LinkedIn. I am deeply interested in this position and am able to work from May 2022 through September 2022. Based on my 11/2 years’ experience and the skill set I possess; I believe that I meet the qualifications that you are looking for as an intern. I am a persistent and hardworking student at Rice University, currently enrolled in Master’s in Industrial Engineering. My courses in Rice have created great sense of curiosity in MRP and its effect on inventory, lot size ordering and holding cost vs set up cost. As the Vice President of ISAR (Indian Student Association at Rice) I have successfully managed scheduling and budgeting as well as planning and delegating responsibilities to other leaders on the executive board team. With these leadership experience, I hope to add value to {company} too.\" \n",
    "Para_2 = f\" I have my bachelor’s degree in Mechatronics engineering with 3.7/4.0 GPA. During my undergraduate studies, I developed eagerness about lean manufacturing and how small changes of improvement in daily life can increase productivity. I also had the opportunity to complete an internship at Steel- O- Fab, a gearbox manufacturing company. During my internship, I worked in an assembly line where I assembled the gear boxes, and using Kaizen, I was able to reduce the assembly time from 12 min to 10 min. I applied manufacturing and production principles such as Kaizen, lean, PEEP (Place for everything and everything in place) and just in time during my internship. I was also sponsored for my final year undergraduate project by Itrontik Smart Systems, where I and my team built a drone to help rescue people from confined spaces. I looked after the Bill of material as well as choose the motors and propellors according to the constraints. I am well equipped with managing Gannt chart, minutes of the meeting and handling multiple tasks in a systematic manner using planner.\" \n",
    "Para_3 = f\"  My forte is in Excel and Presentations which I have analyzed from all the three internships I had. My interest lies in planning, management, cost control, cost reduction, inventory control and cost cutting. I would be grateful to speak with you, if you feel I would be a strong candidate for this or any position in your organization {company}\"\n",
    "end_1 = \".\\n Sincerely,\"\n",
    "end_2 = \"\\n Aditi Vipinchandra Rao\"\"\"\n",
    "\n",
    "cover.count(\"\") + Head.count(\"\") + Para_1.count(\"\") + Para_2.count(\"\") + Para_3.count(\"\")  + end_1.count(\"\") + end_2.count(\"\")"
   ]
  },
  {
   "cell_type": "markdown",
   "id": "6c30eb01",
   "metadata": {},
   "source": [
    "Another way to replace names or numbers in string is ```.replace ```"
   ]
  },
  {
   "cell_type": "code",
   "execution_count": 10,
   "id": "ea765157",
   "metadata": {},
   "outputs": [
    {
     "data": {
      "text/plain": [
       "'18th February  \\nRacebook '"
      ]
     },
     "execution_count": 10,
     "metadata": {},
     "output_type": "execute_result"
    }
   ],
   "source": [
    "cover.replace(\"January\", \"February\")"
   ]
  },
  {
   "cell_type": "code",
   "execution_count": 11,
   "id": "2ef1d814",
   "metadata": {},
   "outputs": [
    {
     "data": {
      "text/plain": [
       "'18th January  \\nRoogle '"
      ]
     },
     "execution_count": 11,
     "metadata": {},
     "output_type": "execute_result"
    }
   ],
   "source": [
    "cover.replace(\"Racebook\", \"Roogle\")"
   ]
  },
  {
   "cell_type": "markdown",
   "id": "5455e515",
   "metadata": {},
   "source": [
    " # Part 2: Dictionaries\n",
    "\n",
    "Python **dictionaries** are *key-value* pairs and I highly encourage you to visit RealPython.com by clicking [here](https://realpython.com/python-dicts/) for more on dictionaries.  \n",
    "\n",
    "\n",
    "The following syntax illustrates how to create a Python dictionary object. We also use the ```items()``` method to view the key-value pairs in our dictionary:\n",
    "```Python\n",
    "sample_dictionary = {\"first_name\": \"John\", \n",
    "                     \"last_name\": \"Doe\",\n",
    "                     \"age\": 34\n",
    "                    }\n",
    "\n",
    "print(f\"sample_dictionary = {sample_dictionary}\")\n",
    "print(f\"sample_dictionary key-value pairs = {sample_dictionary.items()}\")\n",
    "\n",
    "\n",
    "```\n",
    "\n",
    "**Note.** When the contents of a list, tuple, set, or dictionary begin to get too wide it is common (and Pythonic) to simply continue the instantiation of the object on the line directly under where you started. \n",
    "\n",
    "---"
   ]
  },
  {
   "cell_type": "markdown",
   "id": "03d1a6ad",
   "metadata": {},
   "source": [
    "When you want to make a list of all the companies you applied to to keep track if you have been accepted or rejected. Also salary expectations and Position for the openings."
   ]
  },
  {
   "cell_type": "code",
   "execution_count": 100,
   "id": "650f6810",
   "metadata": {},
   "outputs": [
    {
     "name": "stdout",
     "output_type": "stream",
     "text": [
      "sample_dictionary = {'Company': 'Roogle', 'Position': 'Entry_level', 'Salary_in_thousand': 34}\n",
      "sample_dictionary key-value pairs = dict_items([('Company', 'Roogle'), ('Position', 'Entry_level'), ('Salary_in_thousand', 34)])\n"
     ]
    }
   ],
   "source": [
    "sample_dictionary = {\"Company\": \"Roogle\", \n",
    "                     \"Position\": \"Entry_level\",\n",
    "                     \"Salary_in_thousand\": 34\n",
    "                    }\n",
    "\n",
    "print(f\"sample_dictionary = {sample_dictionary}\")\n",
    "print(f\"sample_dictionary key-value pairs = {sample_dictionary.items()}\")\n"
   ]
  },
  {
   "cell_type": "code",
   "execution_count": 101,
   "id": "f7784b59",
   "metadata": {},
   "outputs": [],
   "source": [
    "sample_dictionary[\"Company\"] = \"Racebook\"\n",
    "sample_dictionary[\"Position\"] = \"2_years_experience\"\n"
   ]
  },
  {
   "cell_type": "markdown",
   "id": "bfcee90e",
   "metadata": {},
   "source": [
    "---\n",
    "\n",
    "We can add a new key-value pair to our dictionary by passing a key into the sqaure brackets which is assigned to your choice of value. If the key already exists in the dictionary, the old value will be replaced with the new value. For example, run the following code in the cell below:\n"
   ]
  },
  {
   "cell_type": "code",
   "execution_count": 102,
   "id": "69cbd718",
   "metadata": {},
   "outputs": [
    {
     "data": {
      "text/plain": [
       "{'Company': 'Racebook',\n",
       " 'Position': '2_years_experience',\n",
       " 'Salary_in_thousand': 34}"
      ]
     },
     "execution_count": 102,
     "metadata": {},
     "output_type": "execute_result"
    }
   ],
   "source": [
    "sample_dictionary"
   ]
  },
  {
   "cell_type": "code",
   "execution_count": 103,
   "id": "078b404f",
   "metadata": {},
   "outputs": [],
   "source": [
    "company = {\"Roogle\": { \"Position\": \"sales\", \"Salary\": 60_000},\n",
    "             \"Racebook\" :{\"Position\": \"management\", \"Salary\": 80_000}\n",
    "            }\n",
    "\n",
    "internship = {\"Roogle\" : {\"Internship\": \"Supply_chain\", \"location\": \"Dallas\",},\n",
    "           \"Racebook\": {\"Internship\": \"Industrial_engineer\", \"location\": \"Austin\"}\n",
    "          }\n",
    "\n",
    "database = {\"company\": company, \"internship\": internship}"
   ]
  },
  {
   "cell_type": "code",
   "execution_count": 104,
   "id": "e3ee46ea",
   "metadata": {},
   "outputs": [
    {
     "name": "stdout",
     "output_type": "stream",
     "text": [
      "{'Roogle': {'Position': 'sales', 'Salary': 60000}, 'Racebook': {'Position': 'management', 'Salary': 80000}}\n"
     ]
    }
   ],
   "source": [
    "print(database[\"company\"])"
   ]
  },
  {
   "cell_type": "code",
   "execution_count": 105,
   "id": "602f7489",
   "metadata": {},
   "outputs": [
    {
     "name": "stdout",
     "output_type": "stream",
     "text": [
      "{'Position': 'sales', 'Salary': 60000}\n"
     ]
    }
   ],
   "source": [
    "print(database[\"company\"][\"Roogle\"])"
   ]
  },
  {
   "cell_type": "code",
   "execution_count": 107,
   "id": "851775ea",
   "metadata": {},
   "outputs": [
    {
     "name": "stdout",
     "output_type": "stream",
     "text": [
      "Company:\n",
      "----------\n",
      "           Roogle:\n",
      "           ----------------\n",
      "           Position: sales\n",
      "           Salary: 60000\n",
      "\n",
      "           Racebook:\n",
      "           ----------------\n",
      "           Position: management\n",
      "           Salary: 80000\n",
      "\n",
      "\n",
      "Internship:\n",
      "----------\n",
      "           Roogle:\n",
      "           ----------------\n",
      "           Internship: Supply_chain\n",
      "           location: Dallas\n",
      "\n",
      "           Racebook:\n",
      "           ----------------\n",
      "           Internship: Industrial_engineer\n",
      "           location: Austin\n",
      "\n",
      "\n"
     ]
    }
   ],
   "source": [
    "for data in database:\n",
    "    print(f\"{data.capitalize()}:\")\n",
    "    print(\"----------\")\n",
    "    for data_two in database[data]:\n",
    "        print(f\"           {data_two.capitalize()}:\")\n",
    "        print(\"           ----------------\")\n",
    "        for prop in database[data][data_two]:\n",
    "            print(f\"           {prop}: {database[data][data_two][prop]}\")\n",
    "        print()\n",
    "    print()"
   ]
  },
  {
   "cell_type": "markdown",
   "id": "a96249ec",
   "metadata": {},
   "source": [
    " # Part 3: Condition\n",
    "Lets go ahead and use Conditions in our benefit.\n",
    " \n",
    " Suppose we are applying for the position of Supply chain intern, we need to change the sentence in the cover letter that **\"I am interest for the position of Supply chain intern\"**. Similary if we are applying for indutrial engineer **\"I am interest for the position your company is offering\"**"
   ]
  },
  {
   "cell_type": "code",
   "execution_count": 99,
   "id": "e99f042b",
   "metadata": {},
   "outputs": [
    {
     "name": "stdout",
     "output_type": "stream",
     "text": [
      "I learned about the position at Racebook  Company through LinkedIn. I am deeply interested in this position and am able to work from May 2022 through September 2022. Based on my 11/2 years’ experience and the skill set I possess; I believe that I meet the qualifications that you are looking for as an intern. I am a persistent and hardworking student at Rice University, currently enrolled in Master’s in Industrial Engineering. My courses in Rice have created great sense of curiosity in MRP and its effect on inventory, lot size ordering and holding cost vs set up cost. As the Vice President of ISAR (Indian Student Association at Rice) I have successfully managed scheduling and budgeting as well as planning and delegating responsibilities to other leaders on the executive board team. With these leadership experience, I hope to add value to Racebook too.\n"
     ]
    }
   ],
   "source": [
    "print (Para_1)\n"
   ]
  },
  {
   "cell_type": "code",
   "execution_count": 47,
   "id": "d8b842b8",
   "metadata": {},
   "outputs": [
    {
     "name": "stdout",
     "output_type": "stream",
     "text": [
      "sales\n"
     ]
    }
   ],
   "source": [
    "print(database[\"company\"][\"Roogle\"][\"Position\"])"
   ]
  },
  {
   "cell_type": "code",
   "execution_count": 91,
   "id": "f9806eed",
   "metadata": {},
   "outputs": [],
   "source": [
    "position_1 = database[\"company\"][\"Roogle\"][\"Position\"]"
   ]
  },
  {
   "cell_type": "code",
   "execution_count": 92,
   "id": "6e3ade10",
   "metadata": {},
   "outputs": [
    {
     "data": {
      "text/plain": [
       "'sales'"
      ]
     },
     "execution_count": 92,
     "metadata": {},
     "output_type": "execute_result"
    }
   ],
   "source": [
    "position_1"
   ]
  },
  {
   "cell_type": "code",
   "execution_count": 109,
   "id": "60c354c7",
   "metadata": {},
   "outputs": [
    {
     "name": "stdout",
     "output_type": "stream",
     "text": [
      "I am interest for the position of Sales intern\n"
     ]
    }
   ],
   "source": [
    "if position_1 == 'sales':\n",
    "    print(\"I am interest for the position of Sales intern\")\n",
    "else:\n",
    "    print(\"I am interest for the position your company is offering\")\n"
   ]
  },
  {
   "cell_type": "code",
   "execution_count": 112,
   "id": "f15cde4c",
   "metadata": {},
   "outputs": [],
   "source": [
    "position_2 = database[\"company\"][\"Racebook\"][\"Position\"]"
   ]
  },
  {
   "cell_type": "code",
   "execution_count": 114,
   "id": "8b796977",
   "metadata": {},
   "outputs": [
    {
     "data": {
      "text/plain": [
       "'management'"
      ]
     },
     "execution_count": 114,
     "metadata": {},
     "output_type": "execute_result"
    }
   ],
   "source": [
    "position_2"
   ]
  },
  {
   "cell_type": "code",
   "execution_count": 98,
   "id": "1793f7d1",
   "metadata": {},
   "outputs": [
    {
     "name": "stdout",
     "output_type": "stream",
     "text": [
      "I am interest for the position your company is offering\n"
     ]
    }
   ],
   "source": [
    "if position_2 == 'sales':\n",
    "    print(\"I am interest for the position of Supply chain intern\")\n",
    "else:\n",
    "    print(\"I am interest for the position your company is offering\")\n"
   ]
  },
  {
   "cell_type": "code",
   "execution_count": 116,
   "id": "525209f3",
   "metadata": {},
   "outputs": [
    {
     "name": "stdout",
     "output_type": "stream",
     "text": [
      "I am interest for the position of management internship\n"
     ]
    }
   ],
   "source": [
    "if position_2 == 'management':\n",
    "    print(\"I am interest for the position of management internship\")\n",
    "else:\n",
    "    print(\"I am interest for the position your company is offering\")\n"
   ]
  },
  {
   "cell_type": "code",
   "execution_count": null,
   "id": "0bfbfadc",
   "metadata": {},
   "outputs": [],
   "source": []
  }
 ],
 "metadata": {
  "kernelspec": {
   "display_name": "Python 3",
   "language": "python",
   "name": "python3"
  },
  "language_info": {
   "codemirror_mode": {
    "name": "ipython",
    "version": 3
   },
   "file_extension": ".py",
   "mimetype": "text/x-python",
   "name": "python",
   "nbconvert_exporter": "python",
   "pygments_lexer": "ipython3",
   "version": "3.8.8"
  }
 },
 "nbformat": 4,
 "nbformat_minor": 5
}
