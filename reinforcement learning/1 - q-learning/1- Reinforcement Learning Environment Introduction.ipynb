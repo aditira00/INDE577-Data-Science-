{
 "cells": [
  {
   "cell_type": "markdown",
   "metadata": {},
   "source": [
    "# Basic Reinforcement Learning Environment + Agent +Reward + Action\n"
   ]
  },
  {
   "cell_type": "markdown",
   "metadata": {},
   "source": [
    "#### Installing Dependencies"
   ]
  },
  {
   "cell_type": "code",
   "execution_count": 1,
   "metadata": {},
   "outputs": [
    {
     "name": "stdout",
     "output_type": "stream",
     "text": [
      "Collecting typing\n",
      "  Downloading typing-3.7.4.3.tar.gz (78 kB)\n",
      "Building wheels for collected packages: typing\n",
      "  Building wheel for typing (setup.py): started\n",
      "  Building wheel for typing (setup.py): finished with status 'done'\n",
      "  Created wheel for typing: filename=typing-3.7.4.3-py3-none-any.whl size=26308 sha256=27c97a83098f74bd61acccebc12ca4e8101d8c1ada007f0dac659cfbb0843b2c\n",
      "  Stored in directory: c:\\users\\aadhavan\\appdata\\local\\pip\\cache\\wheels\\5e\\5d\\01\\3083e091b57809dad979ea543def62d9d878950e3e74f0c930\n",
      "Successfully built typing\n",
      "Installing collected packages: typing\n",
      "Successfully installed typing-3.7.4.3\n"
     ]
    }
   ],
   "source": [
    "!pip install typing"
   ]
  },
  {
   "cell_type": "markdown",
   "metadata": {},
   "source": [
    "#### What is the anotomy of an agent? "
   ]
  },
  {
   "cell_type": "markdown",
   "metadata": {},
   "source": [
    "The entities in RL's world are a system that tries to gain rewards by interaction. In practice, the agent is a piece if code that implements some policy.\n"
   ]
  },
  {
   "cell_type": "markdown",
   "metadata": {},
   "source": [
    "#### Environment ? What's that?"
   ]
  },
  {
   "cell_type": "markdown",
   "metadata": {},
   "source": [
    "Its a prototype of the real world, that is external to the agent. It provides obseravtions and rewards to agent."
   ]
  },
  {
   "cell_type": "markdown",
   "metadata": {},
   "source": [
    "#### Creating Enviromnet "
   ]
  },
  {
   "cell_type": "code",
   "execution_count": 2,
   "metadata": {},
   "outputs": [],
   "source": [
    "import random\n",
    "from typing import List\n",
    "\n",
    "# game completes in 20 steps, maximum number of steps for gaining reward \n",
    "class Environment:\n",
    "    def init(self):\n",
    "        self.steps_left = 20\n",
    "#coordinates for the envirnoment.\n",
    "\n",
    "    def get_observation(self) -> List[float]:\n",
    "        return [0.0, 0.0, 0.0]\n",
    "#two actions 0 and 1 \n",
    "    def get_actions(self) -> List[int]:\n",
    "        return [0, 1]\n",
    "#when your steps are complete, this will give an indication that no more moves can be made\n",
    "    def is_done(self) -> bool:\n",
    "        return self.steps_left == 0\n",
    "\n",
    "    def action(self, action: int) -> float:\n",
    "        if self.is_done():\n",
    "            raise Exception(\"Game is over\")\n",
    "        self.steps_left -= 1\n",
    "        return random.random()\n",
    "\n",
    "        "
   ]
  },
  {
   "cell_type": "markdown",
   "metadata": {},
   "source": [
    "#### The above code :\n",
    "\n",
    "Observes the environment\n",
    "\n",
    "Takes decision based in the environment\n",
    "\n",
    "Sends the action to the environment\n",
    "\n",
    "Rewards the upcoming steps"
   ]
  },
  {
   "cell_type": "markdown",
   "metadata": {},
   "source": [
    "#### LOGIC"
   ]
  },
  {
   "cell_type": "code",
   "execution_count": 5,
   "metadata": {},
   "outputs": [],
   "source": [
    "class Agent:\n",
    "    def init(self):                      #starting score point is 0.0\n",
    "        self.total_reward = 0.0\n",
    "\n",
    "    def step(self, env: Environment):\n",
    "        current_obs = env.get_observation()          #get observation is from the \"Environment code\"\n",
    "        print(\"Observation {}\".format(current_obs))\n",
    "        actions = env.get_actions()\n",
    "        print(actions)\n",
    "        reward = env.action(random.choice(actions))            \n",
    "        self.total_reward += reward                  #adding the reward\n",
    "        print(\"Total Reward {}\".format(self.total_reward))"
   ]
  },
  {
   "cell_type": "code",
   "execution_count": 8,
   "metadata": {},
   "outputs": [
    {
     "name": "stdout",
     "output_type": "stream",
     "text": [
      "Steps 1\n",
      "Observation [0.0, 0.0, 0.0]\n",
      "[0, 1]\n",
      "Total Reward 0.9146587356608167\n",
      "Steps 2\n",
      "Observation [0.0, 0.0, 0.0]\n",
      "[0, 1]\n",
      "Total Reward 1.6980890788301743\n",
      "Steps 3\n",
      "Observation [0.0, 0.0, 0.0]\n",
      "[0, 1]\n",
      "Total Reward 1.7586452780347357\n",
      "Steps 4\n",
      "Observation [0.0, 0.0, 0.0]\n",
      "[0, 1]\n",
      "Total Reward 1.8599884746441124\n",
      "Steps 5\n",
      "Observation [0.0, 0.0, 0.0]\n",
      "[0, 1]\n",
      "Total Reward 2.128169220099065\n",
      "Steps 6\n",
      "Observation [0.0, 0.0, 0.0]\n",
      "[0, 1]\n",
      "Total Reward 2.896846035101264\n",
      "Steps 7\n",
      "Observation [0.0, 0.0, 0.0]\n",
      "[0, 1]\n",
      "Total Reward 3.138605932634939\n",
      "Steps 8\n",
      "Observation [0.0, 0.0, 0.0]\n",
      "[0, 1]\n",
      "Total Reward 3.173558851157476\n",
      "Steps 9\n",
      "Observation [0.0, 0.0, 0.0]\n",
      "[0, 1]\n",
      "Total Reward 3.434898907429785\n",
      "Steps 10\n",
      "Observation [0.0, 0.0, 0.0]\n",
      "[0, 1]\n",
      "Total Reward 3.754105842469497\n",
      "Steps 11\n",
      "Observation [0.0, 0.0, 0.0]\n",
      "[0, 1]\n",
      "Total Reward 3.9973366681777267\n",
      "Steps 12\n",
      "Observation [0.0, 0.0, 0.0]\n",
      "[0, 1]\n",
      "Total Reward 4.611330395718255\n",
      "Steps 13\n",
      "Observation [0.0, 0.0, 0.0]\n",
      "[0, 1]\n",
      "Total Reward 4.764035755823926\n",
      "Steps 14\n",
      "Observation [0.0, 0.0, 0.0]\n",
      "[0, 1]\n",
      "Total Reward 5.687637500797079\n",
      "Steps 15\n",
      "Observation [0.0, 0.0, 0.0]\n",
      "[0, 1]\n",
      "Total Reward 5.911653001112338\n",
      "Steps 16\n",
      "Observation [0.0, 0.0, 0.0]\n",
      "[0, 1]\n",
      "Total Reward 6.23463216652239\n",
      "Steps 17\n",
      "Observation [0.0, 0.0, 0.0]\n",
      "[0, 1]\n",
      "Total Reward 6.327778215562633\n",
      "Steps 18\n",
      "Observation [0.0, 0.0, 0.0]\n",
      "[0, 1]\n",
      "Total Reward 6.360229427690582\n",
      "Steps 19\n",
      "Observation [0.0, 0.0, 0.0]\n",
      "[0, 1]\n",
      "Total Reward 6.992693857002757\n",
      "Steps 20\n",
      "Observation [0.0, 0.0, 0.0]\n",
      "[0, 1]\n",
      "Total Reward 7.8044633772150425\n",
      "Total reward got: 7.8045\n",
      "Max value element :  7.8044633772150425\n"
     ]
    }
   ],
   "source": [
    "if name == \"main\":\n",
    "    env = Environment()\n",
    "    agent = Agent()\n",
    "    i=0\n",
    "\n",
    "    while not env.is_done():\n",
    "        i=i+1\n",
    "        print(\"Steps {}\".format(i))\n",
    "        agent.step(env)\n",
    "\n",
    "    print(\"Total reward got: %.4f\" % agent.total_reward)\n",
    "    \n",
    "    \n",
    "print(\"Max value element : \", (agent.total_reward))"
   ]
  },
  {
   "cell_type": "markdown",
   "metadata": {},
   "source": [
    "The following code can be tightened by followinf ways:\n",
    "\n",
    "1)Strict reward points that is every right step gets points.\n",
    "\n",
    "2)Defining the steps and how to get there.\n"
   ]
  },
  {
   "cell_type": "markdown",
   "metadata": {},
   "source": [
    "The following code is inspired by [krish Naik](https://www.youtube.com/watch?v=g_8gw2POOYE)"
   ]
  }
 ],
 "metadata": {
  "kernelspec": {
   "display_name": "Python 3 (ipykernel)",
   "language": "python",
   "name": "python3"
  },
  "language_info": {
   "codemirror_mode": {
    "name": "ipython",
    "version": 3
   },
   "file_extension": ".py",
   "mimetype": "text/x-python",
   "name": "python",
   "nbconvert_exporter": "python",
   "pygments_lexer": "ipython3",
   "version": "3.10.4"
  }
 },
 "nbformat": 4,
 "nbformat_minor": 4
}
