{
 "cells": [
  {
   "cell_type": "markdown",
   "metadata": {},
   "source": [
    "# Linear Regression\n"
   ]
  },
  {
   "cell_type": "code",
   "execution_count": 1,
   "metadata": {},
   "outputs": [
    {
     "name": "stdout",
     "output_type": "stream",
     "text": [
      "Requirement already satisfied: statsmodels in c:\\users\\rao\\anaconda3\\lib\\site-packages (0.12.2)\n",
      "Requirement already satisfied: numpy>=1.15 in c:\\users\\rao\\anaconda3\\lib\\site-packages (from statsmodels) (1.18.5)\n",
      "Requirement already satisfied: scipy>=1.1 in c:\\users\\rao\\anaconda3\\lib\\site-packages (from statsmodels) (1.4.1)\n",
      "Requirement already satisfied: pandas>=0.21 in c:\\users\\rao\\anaconda3\\lib\\site-packages (from statsmodels) (1.2.4)\n",
      "Requirement already satisfied: patsy>=0.5 in c:\\users\\rao\\anaconda3\\lib\\site-packages (from statsmodels) (0.5.1)\n",
      "Requirement already satisfied: pytz>=2017.3 in c:\\users\\rao\\anaconda3\\lib\\site-packages (from pandas>=0.21->statsmodels) (2021.1)\n",
      "Requirement already satisfied: python-dateutil>=2.7.3 in c:\\users\\rao\\anaconda3\\lib\\site-packages (from pandas>=0.21->statsmodels) (2.8.1)\n",
      "Requirement already satisfied: six in c:\\users\\rao\\anaconda3\\lib\\site-packages (from patsy>=0.5->statsmodels) (1.15.0)\n"
     ]
    }
   ],
   "source": [
    "! pip3 install statsmodels"
   ]
  },
  {
   "cell_type": "code",
   "execution_count": 2,
   "metadata": {},
   "outputs": [],
   "source": [
    "#import important libraries\n",
    "# import numpy for linear algebra functions\n",
    "import numpy as np \n",
    "# import pandas for data processing \n",
    "import pandas as pd #for data processing the CSV\n",
    "\n",
    "# for ploting graph\n",
    "import seaborn as sns\n",
    "import matplotlib.pyplot as plt\n",
    "import matplotlib.patches as mpatches\n",
    "\n",
    "from sklearn import preprocessing\n",
    "from sklearn.preprocessing import StandardScaler\n",
    "from sklearn.model_selection import train_test_split"
   ]
  },
  {
   "cell_type": "code",
   "execution_count": 3,
   "metadata": {},
   "outputs": [],
   "source": [
    "# import drybeans csv file with pandas\n",
    "df = pd.read_csv(\"drybeans.csv\")"
   ]
  },
  {
   "cell_type": "markdown",
   "metadata": {},
   "source": [
    "## Build the model"
   ]
  },
  {
   "cell_type": "code",
   "execution_count": 4,
   "metadata": {},
   "outputs": [],
   "source": [
    "# function for Slope\n",
    "def slope(a,b):\n",
    "    n = len(a)\n",
    "    dot_sum = np.sum(a*b)\n",
    "    sumX = np.sum(a)\n",
    "    sumY = np.sum(b)\n",
    "    sumX2 = np.sum(a**2)\n",
    "    slope = (n * dot_sum - sumX * sumY)/(n * sumX2 - sumX**2)\n",
    "    return slope"
   ]
  },
  {
   "cell_type": "code",
   "execution_count": 5,
   "metadata": {},
   "outputs": [],
   "source": [
    "#function to find the intercept of the linear regression line\n",
    "def intercept(a,b):\n",
    "    intercept = np.mean(b) - slope(a,b) * np.mean(a)\n",
    "    return intercept"
   ]
  },
  {
   "cell_type": "code",
   "execution_count": 6,
   "metadata": {},
   "outputs": [],
   "source": [
    "# function to make predictions using the linear regression algorithm\n",
    "def prediction(slope, x_input, intercept):\n",
    "    predict = slope * x_input + intercept\n",
    "    return predict"
   ]
  },
  {
   "cell_type": "code",
   "execution_count": 7,
   "metadata": {},
   "outputs": [],
   "source": [
    "#function to find R-squared, which is the regression metric\n",
    "def rSquared(predicted_values, test_values):\n",
    "    f = predicted_values\n",
    "    y = test_values\n",
    "    sum_sq = np.sum((y - np.mean(y))**2) \n",
    "    sum_reg = np.sum((f - np.mean(y))**2) \n",
    "    sum_res = np.sum((y - f)**2) \n",
    "    R_2 = 1 - (sum_res/sum_sq)\n",
    "    return R_2    "
   ]
  },
  {
   "cell_type": "code",
   "execution_count": 8,
   "metadata": {},
   "outputs": [],
   "source": [
    "#function to find the correlation coefficient for given x and y values\n",
    "def correlationCoefficient(predicted_values, test_values):\n",
    "    a = predicted_values\n",
    "    b = test_values\n",
    "    n = len(a)\n",
    "    dot_sum = np.sum(a*b)\n",
    "    sumX = np.sum(a)\n",
    "    sumY = np.sum(b)\n",
    "    sumX2 = np.sum(a**2)\n",
    "    sumY2 = np.sum(b**2)\n",
    "    score = (n *dot_sum - sumX * sumY) / np.sqrt((n * sumX2 - (sumX)**2)*(n * sumY2 - (sumY)**2))\n",
    "    return score"
   ]
  },
  {
   "cell_type": "code",
   "execution_count": 9,
   "metadata": {},
   "outputs": [],
   "source": [
    "#function to find the covariance for given x and y values\n",
    "def covariance(X,Y):\n",
    "    a = X\n",
    "    b = Y\n",
    "    n = len(a)\n",
    "    dot_sum = np.sum(a*b)\n",
    "    cov = dot_sum / n - np.mean(a) * np.mean(b)\n",
    "    return cov"
   ]
  },
  {
   "cell_type": "markdown",
   "metadata": {},
   "source": [
    "## Pre-Processing\n",
    "Before we can run linear regression, we need to pre-process the data and encode labels. We will do this using sklearn's preprocessing package."
   ]
  },
  {
   "cell_type": "code",
   "execution_count": 10,
   "metadata": {},
   "outputs": [],
   "source": [
    "# function to process the dataset\n",
    "def preprocessor(df):\n",
    "    res_df = df.copy()\n",
    "    le = preprocessing.LabelEncoder()\n",
    "    \n",
    "    res_df['Area'] = le.fit_transform(res_df['Area'])\n",
    "    res_df['Perimeter'] = le.fit_transform(res_df['Perimeter'])\n",
    "    res_df['MajorAxisLength'] = le.fit_transform(res_df['MajorAxisLength'])\n",
    "    res_df['MinorAxisLength'] = le.fit_transform(res_df['MinorAxisLength'])\n",
    "    res_df['AspectRation'] = le.fit_transform(res_df['AspectRation'])\n",
    "    res_df['Eccentricity'] = le.fit_transform(res_df['Eccentricity'])\n",
    "    res_df['ConvexArea'] = le.fit_transform(res_df['ConvexArea'])\n",
    "    res_df['EquivDiameter'] = le.fit_transform(res_df['EquivDiameter'])\n",
    "    res_df['Extent'] = le.fit_transform(res_df['Extent'])\n",
    "    return res_df\n",
    "    \n",
    "# the function and store it in a variable\n",
    "encoded_df = preprocessor(df)"
   ]
  },
  {
   "cell_type": "code",
   "execution_count": 11,
   "metadata": {},
   "outputs": [],
   "source": [
    "#setting for linear regression\n",
    "X = encoded_df.Area\n",
    "y = encoded_df.Solidity"
   ]
  },
  {
   "cell_type": "markdown",
   "metadata": {},
   "source": [
    "# Implementation\n",
    "We will now utilize the functions created above to evaluate the imported dataset For [IBMEmployeeAttrition](https://github.com/Madison-Bunting/INDE-577/blob/main/IBMEmployeeAttrition.csv) specifically, there are lots of variables on which one could run a regression."
   ]
  },
  {
   "cell_type": "code",
   "execution_count": 12,
   "metadata": {},
   "outputs": [],
   "source": [
    "#Divide the data into test and training sets\n",
    "X_train, X_test, y_train, y_test = train_test_split(X, y)"
   ]
  },
  {
   "cell_type": "code",
   "execution_count": 13,
   "metadata": {
    "scrolled": true
   },
   "outputs": [
    {
     "name": "stdout",
     "output_type": "stream",
     "text": [
      "R-squared: 0.07691941725917184\n",
      "Correlation Coefficient: 0.2778537497795751\n"
     ]
    }
   ],
   "source": [
    "#Find the intercept of the training regression line using the functions created previously\n",
    "intercept = intercept(X_train,y_train)\n",
    "slope = slope(X_train,y_train)\n",
    "\n",
    "predictions = prediction(slope = slope,x_input = X_test, intercept = intercept)\n",
    "\n",
    "print(\"R-squared:\", rSquared(predicted_values = predictions, test_values = y_test))\n",
    "print(\"Correlation Coefficient:\", correlationCoefficient(test_values = y_test, predicted_values = predictions))"
   ]
  },
  {
   "cell_type": "code",
   "execution_count": 14,
   "metadata": {},
   "outputs": [],
   "source": [
    "#Linear Regression Equation\n",
    "y_est = slope * X + intercept"
   ]
  },
  {
   "cell_type": "code",
   "execution_count": 15,
   "metadata": {},
   "outputs": [
    {
     "data": {
      "image/png": "[encoded data removed]",
      "text/plain": [
       "<Figure size 432x288 with 1 Axes>"
      ]
     },
     "metadata": {
      "needs_background": "light"
     },
     "output_type": "display_data"
    }
   ],
   "source": [
    "\n",
    "plt.scatter(X,y, c='r')\n",
    "plt.plot(X,y_est, color = 'b',linewidth=2)\n",
    "blue_patch = mpatches.Patch(label='Regression Line')\n",
    "plt.legend(loc=0,handles=[blue_patch])\n",
    "plt.title('Linear Regression of Area vs Solidity', y=1.1)\n",
    "plt.ylabel('Area')\n",
    "plt.xlabel('Solidity')\n",
    "plt.tight_layout(pad=2)\n",
    "plt.grid(False)\n",
    "plt.show()"
   ]
  },
  {
   "cell_type": "code",
   "execution_count": 16,
   "metadata": {},
   "outputs": [
    {
     "name": "stderr",
     "output_type": "stream",
     "text": [
      "C:\\Users\\Rao\\anaconda3\\lib\\site-packages\\seaborn\\_decorators.py:36: FutureWarning: Pass the following variables as keyword args: x, y. From version 0.12, the only valid positional argument will be `data`, and passing other arguments without an explicit keyword will result in an error or misinterpretation.\n",
      "  warnings.warn(\n"
     ]
    },
    {
     "data": {
      "image/png": "[encoded data removed]",
      "text/plain": [
       "<Figure size 432x288 with 1 Axes>"
      ]
     },
     "metadata": {},
     "output_type": "display_data"
    }
   ],
   "source": [
    "sns.set(style=\"whitegrid\")\n",
    "sns.residplot(X, y, lowess=True, color=\"r\")\n",
    "plt.title('Residual Plot')\n",
    "plt.ylabel('Area')\n",
    "plt.xlabel('Solidity')\n",
    "plt.show()"
   ]
  },
  {
   "cell_type": "markdown",
   "metadata": {},
   "source": [
    "The R^2 value for this plot (0.07) is closer to 0 than 1, indicating a linear regression may not be a good model for estimating monthly income given age. This makes sense because the residuals plot appears to show an increasing trend, meaning the data violates the model's assumption of homoscedasticity."
   ]
  }
 ],
 "metadata": {
  "kernelspec": {
   "display_name": "Python 3",
   "language": "python",
   "name": "python3"
  },
  "language_info": {
   "codemirror_mode": {
    "name": "ipython",
    "version": 3
   },
   "file_extension": ".py",
   "mimetype": "text/x-python",
   "name": "python",
   "nbconvert_exporter": "python",
   "pygments_lexer": "ipython3",
   "version": "3.8.8"
  }
 },
 "nbformat": 4,
 "nbformat_minor": 4
}
